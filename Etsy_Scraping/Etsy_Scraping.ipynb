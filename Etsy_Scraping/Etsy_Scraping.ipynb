{
 "cells": [
  {
   "cell_type": "markdown",
   "id": "2b799b59-68db-42df-bf8f-5dc0eab434ea",
   "metadata": {},
   "source": [
    "### Web Scraping with Beautiful Soup\n",
    "As the saying goes, practice makes perfect.In this project, I worked on another web scraping task, this time focusing on Etsy, a global e-commerce platform known for its unique and creative goods. Etsy hosts a diverse range of extraordinary items, from handcrafted pieces to vintage treasures. My goal was to explore the Kenyan products available on the platform. For this, I used Beautiful Soup to scrape the data and Pandas to manipulate it for analysis."
   ]
  },
  {
   "cell_type": "markdown",
   "id": "27985337-0b72-4793-b199-72408beb5589",
   "metadata": {},
   "source": [
    "* I'll start by importing the necesssary libraries"
   ]
  },
  {
   "cell_type": "code",
   "execution_count": 1,
   "id": "accf0e72-1d69-46b1-9568-90d1a593cd3a",
   "metadata": {},
   "outputs": [],
   "source": [
    "import requests\n",
    "import pandas as pd\n",
    "from bs4 import BeautifulSoup as bs"
   ]
  },
  {
   "cell_type": "code",
   "execution_count": 2,
   "id": "5fd6db2b-c32e-47a5-890f-5c70ec96b0f7",
   "metadata": {},
   "outputs": [],
   "source": [
    "#defining the url\n",
    "url =\"https://www.etsy.com/market/kenya?ref=pagination&page=\"\n",
    "headers ={\n",
    "    \"User-Agent\": \"Mozilla/5.0 (Windows NT 10.0; Win64; x64) AppleWebKit/537.36 (KHTML, like Gecko) Chrome/131.0.0.0 Safari/537.36\", \n",
    "    \"Accept-Language\": \"en-GB,en-US;q=0.9,en;q=0.8\"\n",
    "}\n",
    "\n",
    "#initializing an empty list that will store our data\n",
    "all_products =[]\n",
    "\n",
    "#iterating over the 50 pages\n",
    "for page in range(1,51):\n",
    "    urls =f\"{url}{page}\"\n",
    "    response =requests.get(urls,headers=headers)\n",
    "\n",
    "    if response.status_code == 200:\n",
    "        soup =bs(response.text,\"html.parser\")\n",
    "        products =soup.find_all(\"div\",class_=\"v2-listing-card__info\")\n",
    "        for product in products:\n",
    "            name =product.find(\"h2\",class_=\"wt-text-caption\")\n",
    "            currency =product.find(\"span\",class_=\"currency-symbol\")\n",
    "            price =product.find(\"span\",class_=\"currency-value\")\n",
    "        \n",
    "            name =name.get_text(strip=True) if name else None\n",
    "            currency =currency.get_text(strip=True) if currency else None\n",
    "            price =price.get_text(strip=True) if price else None\n",
    "        \n",
    "            goods ={\n",
    "                \"Name\":name,\n",
    "                \"Currency\":currency,\n",
    "                \"Price\":price\n",
    "            }\n",
    "        \n",
    "            all_products.append(goods)\n",
    "    else:\n",
    "        print(f\"Failed to retrieve {page}: {response.status_code}\")\n",
    "\n",
    "df =pd.DataFrame(all_products)"
   ]
  },
  {
   "cell_type": "markdown",
   "id": "6c18e1f7-d6ef-44da-8936-4104855b0ad5",
   "metadata": {},
   "source": [
    "* Lets check our data to see if its tidy"
   ]
  },
  {
   "cell_type": "code",
   "execution_count": 3,
   "id": "1a9765a2-a303-4680-858d-4cb981177acd",
   "metadata": {},
   "outputs": [
    {
     "data": {
      "text/html": [
       "<div>\n",
       "<style scoped>\n",
       "    .dataframe tbody tr th:only-of-type {\n",
       "        vertical-align: middle;\n",
       "    }\n",
       "\n",
       "    .dataframe tbody tr th {\n",
       "        vertical-align: top;\n",
       "    }\n",
       "\n",
       "    .dataframe thead th {\n",
       "        text-align: right;\n",
       "    }\n",
       "</style>\n",
       "<table border=\"1\" class=\"dataframe\">\n",
       "  <thead>\n",
       "    <tr style=\"text-align: right;\">\n",
       "      <th></th>\n",
       "      <th>Name</th>\n",
       "      <th>Currency</th>\n",
       "      <th>Price</th>\n",
       "    </tr>\n",
       "  </thead>\n",
       "  <tbody>\n",
       "    <tr>\n",
       "      <th>0</th>\n",
       "      <td>Mount Kenya Poster -Chogoria Route Art -Mount ...</td>\n",
       "      <td>USD</td>\n",
       "      <td>16.48</td>\n",
       "    </tr>\n",
       "    <tr>\n",
       "      <th>1</th>\n",
       "      <td>Kenyan Map-Shaped Wooden Jewelry Tray</td>\n",
       "      <td>USD</td>\n",
       "      <td>90.00</td>\n",
       "    </tr>\n",
       "    <tr>\n",
       "      <th>2</th>\n",
       "      <td>Kericho Gold Kenyan Tea (Black Tea, 100 Envelo...</td>\n",
       "      <td>USD</td>\n",
       "      <td>13.99</td>\n",
       "    </tr>\n",
       "    <tr>\n",
       "      <th>3</th>\n",
       "      <td>Pallasite Meteorite slice, 831g Kenyan meteori...</td>\n",
       "      <td>USD</td>\n",
       "      <td>2,493.00</td>\n",
       "    </tr>\n",
       "    <tr>\n",
       "      <th>4</th>\n",
       "      <td>Kenya Cookbook - Uncover the Rich and Diverse ...</td>\n",
       "      <td>USD</td>\n",
       "      <td>3.48</td>\n",
       "    </tr>\n",
       "    <tr>\n",
       "      <th>5</th>\n",
       "      <td>Swahili Wall Art Set of 4 Definition Prints Ka...</td>\n",
       "      <td>USD</td>\n",
       "      <td>9.17</td>\n",
       "    </tr>\n",
       "    <tr>\n",
       "      <th>6</th>\n",
       "      <td>Kenya OS PNG, exclusive design Kenya OS in png...</td>\n",
       "      <td>USD</td>\n",
       "      <td>2.87</td>\n",
       "    </tr>\n",
       "    <tr>\n",
       "      <th>7</th>\n",
       "      <td>Kenya Heart Sweatshirt, Kenya Hoodie, Kenya Sh...</td>\n",
       "      <td>USD</td>\n",
       "      <td>32.00</td>\n",
       "    </tr>\n",
       "    <tr>\n",
       "      <th>8</th>\n",
       "      <td>Mzungu Definition Men's Short Sleeve T-Shirt |...</td>\n",
       "      <td>USD</td>\n",
       "      <td>26.29</td>\n",
       "    </tr>\n",
       "    <tr>\n",
       "      <th>9</th>\n",
       "      <td>Kericho Gold Kenyan Tea (Black Tea, 100 Envelo...</td>\n",
       "      <td>USD</td>\n",
       "      <td>13.99</td>\n",
       "    </tr>\n",
       "  </tbody>\n",
       "</table>\n",
       "</div>"
      ],
      "text/plain": [
       "                                                Name Currency     Price\n",
       "0  Mount Kenya Poster -Chogoria Route Art -Mount ...      USD     16.48\n",
       "1              Kenyan Map-Shaped Wooden Jewelry Tray      USD     90.00\n",
       "2  Kericho Gold Kenyan Tea (Black Tea, 100 Envelo...      USD     13.99\n",
       "3  Pallasite Meteorite slice, 831g Kenyan meteori...      USD  2,493.00\n",
       "4  Kenya Cookbook - Uncover the Rich and Diverse ...      USD      3.48\n",
       "5  Swahili Wall Art Set of 4 Definition Prints Ka...      USD      9.17\n",
       "6  Kenya OS PNG, exclusive design Kenya OS in png...      USD      2.87\n",
       "7  Kenya Heart Sweatshirt, Kenya Hoodie, Kenya Sh...      USD     32.00\n",
       "8  Mzungu Definition Men's Short Sleeve T-Shirt |...      USD     26.29\n",
       "9  Kericho Gold Kenyan Tea (Black Tea, 100 Envelo...      USD     13.99"
      ]
     },
     "metadata": {},
     "output_type": "display_data"
    },
    {
     "name": "stdout",
     "output_type": "stream",
     "text": [
      "Dataset shape: (2746, 3)\n",
      "\n",
      "Duplicates present: True\n",
      "\n",
      "Missing values present: Name        False\n",
      "Currency    False\n",
      "Price       False\n",
      "dtype: bool\n",
      "\n",
      "Data typesName        object\n",
      "Currency    object\n",
      "Price       object\n",
      "dtype: object\n"
     ]
    }
   ],
   "source": [
    "display(df.head(10))\n",
    "print(f\"Dataset shape: {df.shape}\")\n",
    "print(f\"\\nDuplicates present: {df.duplicated().any()}\")\n",
    "print(f\"\\nMissing values present: {df.isna().any()}\")\n",
    "print(f\"\\nData types{df.dtypes}\")"
   ]
  },
  {
   "cell_type": "markdown",
   "id": "74a99ba0-cfcd-43f1-9489-35b709887cf5",
   "metadata": {},
   "source": [
    "* After reviewing the dataset, I identified duplicates, found that some data types required adjustment and confirmed there were no missing values."
   ]
  },
  {
   "cell_type": "code",
   "execution_count": 4,
   "id": "64cfa5ee-15d9-40ba-b32c-61820145d463",
   "metadata": {},
   "outputs": [],
   "source": [
    "#lets drop the duplicates\n",
    "df.drop_duplicates(inplace=True)\n",
    "\n",
    "#lets change the data type\n",
    "df[\"Price\"] =df[\"Price\"].str.strip()\n",
    "df[\"Price\"] =df[\"Price\"].str.replace(r\"[^\\d.]\",\"\",regex=True)\n",
    "df[\"Price\"] =pd.to_numeric(df[\"Price\"])"
   ]
  },
  {
   "cell_type": "markdown",
   "id": "d639972d-3e60-4839-8569-2af71e84413e",
   "metadata": {},
   "source": [
    "#### Data preprocessing\n",
    "Since we are looking at products of Kenya, we need to change the currency to Kenya Shillings"
   ]
  },
  {
   "cell_type": "code",
   "execution_count": 5,
   "id": "ca705d68-c531-4914-ae10-314caa9143a8",
   "metadata": {},
   "outputs": [],
   "source": [
    "df[\"Currency\"] =df[\"Currency\"].str.replace(\"USD\",\"Ksh\")\n",
    "df[\"Price\"] =df[\"Price\"] * 130 "
   ]
  },
  {
   "cell_type": "code",
   "execution_count": 6,
   "id": "da1adccf-f0df-4c37-bc9f-b9f8bb95c070",
   "metadata": {},
   "outputs": [
    {
     "data": {
      "text/html": [
       "<div>\n",
       "<style scoped>\n",
       "    .dataframe tbody tr th:only-of-type {\n",
       "        vertical-align: middle;\n",
       "    }\n",
       "\n",
       "    .dataframe tbody tr th {\n",
       "        vertical-align: top;\n",
       "    }\n",
       "\n",
       "    .dataframe thead th {\n",
       "        text-align: right;\n",
       "    }\n",
       "</style>\n",
       "<table border=\"1\" class=\"dataframe\">\n",
       "  <thead>\n",
       "    <tr style=\"text-align: right;\">\n",
       "      <th></th>\n",
       "      <th>Name</th>\n",
       "      <th>Currency</th>\n",
       "      <th>Price</th>\n",
       "    </tr>\n",
       "  </thead>\n",
       "  <tbody>\n",
       "    <tr>\n",
       "      <th>0</th>\n",
       "      <td>Mount Kenya Poster -Chogoria Route Art -Mount ...</td>\n",
       "      <td>Ksh</td>\n",
       "      <td>2142.4</td>\n",
       "    </tr>\n",
       "    <tr>\n",
       "      <th>1</th>\n",
       "      <td>Kenyan Map-Shaped Wooden Jewelry Tray</td>\n",
       "      <td>Ksh</td>\n",
       "      <td>11700.0</td>\n",
       "    </tr>\n",
       "    <tr>\n",
       "      <th>2</th>\n",
       "      <td>Kericho Gold Kenyan Tea (Black Tea, 100 Envelo...</td>\n",
       "      <td>Ksh</td>\n",
       "      <td>1818.7</td>\n",
       "    </tr>\n",
       "    <tr>\n",
       "      <th>3</th>\n",
       "      <td>Pallasite Meteorite slice, 831g Kenyan meteori...</td>\n",
       "      <td>Ksh</td>\n",
       "      <td>324090.0</td>\n",
       "    </tr>\n",
       "    <tr>\n",
       "      <th>4</th>\n",
       "      <td>Kenya Cookbook - Uncover the Rich and Diverse ...</td>\n",
       "      <td>Ksh</td>\n",
       "      <td>452.4</td>\n",
       "    </tr>\n",
       "  </tbody>\n",
       "</table>\n",
       "</div>"
      ],
      "text/plain": [
       "                                                Name Currency     Price\n",
       "0  Mount Kenya Poster -Chogoria Route Art -Mount ...      Ksh    2142.4\n",
       "1              Kenyan Map-Shaped Wooden Jewelry Tray      Ksh   11700.0\n",
       "2  Kericho Gold Kenyan Tea (Black Tea, 100 Envelo...      Ksh    1818.7\n",
       "3  Pallasite Meteorite slice, 831g Kenyan meteori...      Ksh  324090.0\n",
       "4  Kenya Cookbook - Uncover the Rich and Diverse ...      Ksh     452.4"
      ]
     },
     "execution_count": 6,
     "metadata": {},
     "output_type": "execute_result"
    }
   ],
   "source": [
    "df.head()"
   ]
  },
  {
   "cell_type": "markdown",
   "id": "8ceda804-cbb8-474f-9e70-b895b879cc54",
   "metadata": {},
   "source": [
    "* Saving our new dataset as a csv"
   ]
  },
  {
   "cell_type": "code",
   "execution_count": 7,
   "id": "cd958041-e694-44f5-9473-4d4a46fe562f",
   "metadata": {},
   "outputs": [],
   "source": [
    "df.to_csv(r\"C:\\Users\\USER\\Web-Scraping\\Etsy_Data.csv\")"
   ]
  }
 ],
 "metadata": {
  "kernelspec": {
   "display_name": "Python 3 (ipykernel)",
   "language": "python",
   "name": "python3"
  },
  "language_info": {
   "codemirror_mode": {
    "name": "ipython",
    "version": 3
   },
   "file_extension": ".py",
   "mimetype": "text/x-python",
   "name": "python",
   "nbconvert_exporter": "python",
   "pygments_lexer": "ipython3",
   "version": "3.12.2"
  }
 },
 "nbformat": 4,
 "nbformat_minor": 5
}
